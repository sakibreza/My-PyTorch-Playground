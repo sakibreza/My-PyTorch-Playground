{
  "nbformat": 4,
  "nbformat_minor": 0,
  "metadata": {
    "colab": {
      "name": "Validation.ipynb",
      "provenance": [],
      "collapsed_sections": [],
      "include_colab_link": true
    },
    "language_info": {
      "codemirror_mode": {
        "name": "ipython",
        "version": 3
      },
      "file_extension": ".py",
      "mimetype": "text/x-python",
      "name": "python",
      "nbconvert_exporter": "python",
      "pygments_lexer": "ipython3",
      "version": "3.6.8"
    },
    "kernelspec": {
      "name": "python3",
      "display_name": "Python 3"
    },
    "widgets": {
      "application/vnd.jupyter.widget-state+json": {
        "bafed255ac144edf80de2d227a8f837e": {
          "model_module": "@jupyter-widgets/controls",
          "model_name": "HBoxModel",
          "state": {
            "_view_name": "HBoxView",
            "_dom_classes": [],
            "_model_name": "HBoxModel",
            "_view_module": "@jupyter-widgets/controls",
            "_model_module_version": "1.5.0",
            "_view_count": null,
            "_view_module_version": "1.5.0",
            "box_style": "",
            "layout": "IPY_MODEL_513add183ea04a84bdf618984908aee2",
            "_model_module": "@jupyter-widgets/controls",
            "children": [
              "IPY_MODEL_76c51cf66c65415abd66c6580160027f",
              "IPY_MODEL_a75a362739a14b659f45e39d47fb56d1"
            ]
          }
        },
        "513add183ea04a84bdf618984908aee2": {
          "model_module": "@jupyter-widgets/base",
          "model_name": "LayoutModel",
          "state": {
            "_view_name": "LayoutView",
            "grid_template_rows": null,
            "right": null,
            "justify_content": null,
            "_view_module": "@jupyter-widgets/base",
            "overflow": null,
            "_model_module_version": "1.2.0",
            "_view_count": null,
            "flex_flow": null,
            "width": null,
            "min_width": null,
            "border": null,
            "align_items": null,
            "bottom": null,
            "_model_module": "@jupyter-widgets/base",
            "top": null,
            "grid_column": null,
            "overflow_y": null,
            "overflow_x": null,
            "grid_auto_flow": null,
            "grid_area": null,
            "grid_template_columns": null,
            "flex": null,
            "_model_name": "LayoutModel",
            "justify_items": null,
            "grid_row": null,
            "max_height": null,
            "align_content": null,
            "visibility": null,
            "align_self": null,
            "height": null,
            "min_height": null,
            "padding": null,
            "grid_auto_rows": null,
            "grid_gap": null,
            "max_width": null,
            "order": null,
            "_view_module_version": "1.2.0",
            "grid_template_areas": null,
            "object_position": null,
            "object_fit": null,
            "grid_auto_columns": null,
            "margin": null,
            "display": null,
            "left": null
          }
        },
        "76c51cf66c65415abd66c6580160027f": {
          "model_module": "@jupyter-widgets/controls",
          "model_name": "FloatProgressModel",
          "state": {
            "_view_name": "ProgressView",
            "style": "IPY_MODEL_22064c8b56194d0592bb0ec6086e25e3",
            "_dom_classes": [],
            "description": "",
            "_model_name": "FloatProgressModel",
            "bar_style": "info",
            "max": 1,
            "_view_module": "@jupyter-widgets/controls",
            "_model_module_version": "1.5.0",
            "value": 1,
            "_view_count": null,
            "_view_module_version": "1.5.0",
            "orientation": "horizontal",
            "min": 0,
            "description_tooltip": null,
            "_model_module": "@jupyter-widgets/controls",
            "layout": "IPY_MODEL_52b108b71ee9493f8b521e0c0e17c627"
          }
        },
        "a75a362739a14b659f45e39d47fb56d1": {
          "model_module": "@jupyter-widgets/controls",
          "model_name": "HTMLModel",
          "state": {
            "_view_name": "HTMLView",
            "style": "IPY_MODEL_357c4fa86a9146d3b9a1725d76f6b464",
            "_dom_classes": [],
            "description": "",
            "_model_name": "HTMLModel",
            "placeholder": "​",
            "_view_module": "@jupyter-widgets/controls",
            "_model_module_version": "1.5.0",
            "value": " 26427392/? [00:20&lt;00:00, 11591573.39it/s]",
            "_view_count": null,
            "_view_module_version": "1.5.0",
            "description_tooltip": null,
            "_model_module": "@jupyter-widgets/controls",
            "layout": "IPY_MODEL_c1a79597daf24a1e941187146c78879e"
          }
        },
        "22064c8b56194d0592bb0ec6086e25e3": {
          "model_module": "@jupyter-widgets/controls",
          "model_name": "ProgressStyleModel",
          "state": {
            "_view_name": "StyleView",
            "_model_name": "ProgressStyleModel",
            "description_width": "initial",
            "_view_module": "@jupyter-widgets/base",
            "_model_module_version": "1.5.0",
            "_view_count": null,
            "_view_module_version": "1.2.0",
            "bar_color": null,
            "_model_module": "@jupyter-widgets/controls"
          }
        },
        "52b108b71ee9493f8b521e0c0e17c627": {
          "model_module": "@jupyter-widgets/base",
          "model_name": "LayoutModel",
          "state": {
            "_view_name": "LayoutView",
            "grid_template_rows": null,
            "right": null,
            "justify_content": null,
            "_view_module": "@jupyter-widgets/base",
            "overflow": null,
            "_model_module_version": "1.2.0",
            "_view_count": null,
            "flex_flow": null,
            "width": null,
            "min_width": null,
            "border": null,
            "align_items": null,
            "bottom": null,
            "_model_module": "@jupyter-widgets/base",
            "top": null,
            "grid_column": null,
            "overflow_y": null,
            "overflow_x": null,
            "grid_auto_flow": null,
            "grid_area": null,
            "grid_template_columns": null,
            "flex": null,
            "_model_name": "LayoutModel",
            "justify_items": null,
            "grid_row": null,
            "max_height": null,
            "align_content": null,
            "visibility": null,
            "align_self": null,
            "height": null,
            "min_height": null,
            "padding": null,
            "grid_auto_rows": null,
            "grid_gap": null,
            "max_width": null,
            "order": null,
            "_view_module_version": "1.2.0",
            "grid_template_areas": null,
            "object_position": null,
            "object_fit": null,
            "grid_auto_columns": null,
            "margin": null,
            "display": null,
            "left": null
          }
        },
        "357c4fa86a9146d3b9a1725d76f6b464": {
          "model_module": "@jupyter-widgets/controls",
          "model_name": "DescriptionStyleModel",
          "state": {
            "_view_name": "StyleView",
            "_model_name": "DescriptionStyleModel",
            "description_width": "",
            "_view_module": "@jupyter-widgets/base",
            "_model_module_version": "1.5.0",
            "_view_count": null,
            "_view_module_version": "1.2.0",
            "_model_module": "@jupyter-widgets/controls"
          }
        },
        "c1a79597daf24a1e941187146c78879e": {
          "model_module": "@jupyter-widgets/base",
          "model_name": "LayoutModel",
          "state": {
            "_view_name": "LayoutView",
            "grid_template_rows": null,
            "right": null,
            "justify_content": null,
            "_view_module": "@jupyter-widgets/base",
            "overflow": null,
            "_model_module_version": "1.2.0",
            "_view_count": null,
            "flex_flow": null,
            "width": null,
            "min_width": null,
            "border": null,
            "align_items": null,
            "bottom": null,
            "_model_module": "@jupyter-widgets/base",
            "top": null,
            "grid_column": null,
            "overflow_y": null,
            "overflow_x": null,
            "grid_auto_flow": null,
            "grid_area": null,
            "grid_template_columns": null,
            "flex": null,
            "_model_name": "LayoutModel",
            "justify_items": null,
            "grid_row": null,
            "max_height": null,
            "align_content": null,
            "visibility": null,
            "align_self": null,
            "height": null,
            "min_height": null,
            "padding": null,
            "grid_auto_rows": null,
            "grid_gap": null,
            "max_width": null,
            "order": null,
            "_view_module_version": "1.2.0",
            "grid_template_areas": null,
            "object_position": null,
            "object_fit": null,
            "grid_auto_columns": null,
            "margin": null,
            "display": null,
            "left": null
          }
        },
        "e003e010b08444ceae297439c92bc9fa": {
          "model_module": "@jupyter-widgets/controls",
          "model_name": "HBoxModel",
          "state": {
            "_view_name": "HBoxView",
            "_dom_classes": [],
            "_model_name": "HBoxModel",
            "_view_module": "@jupyter-widgets/controls",
            "_model_module_version": "1.5.0",
            "_view_count": null,
            "_view_module_version": "1.5.0",
            "box_style": "",
            "layout": "IPY_MODEL_04f9715429b3418fb364f31837f5a804",
            "_model_module": "@jupyter-widgets/controls",
            "children": [
              "IPY_MODEL_7f9ae0b227b2494b8333184f627707b7",
              "IPY_MODEL_ca279c2b84164375baaba7c31d4288d5"
            ]
          }
        },
        "04f9715429b3418fb364f31837f5a804": {
          "model_module": "@jupyter-widgets/base",
          "model_name": "LayoutModel",
          "state": {
            "_view_name": "LayoutView",
            "grid_template_rows": null,
            "right": null,
            "justify_content": null,
            "_view_module": "@jupyter-widgets/base",
            "overflow": null,
            "_model_module_version": "1.2.0",
            "_view_count": null,
            "flex_flow": null,
            "width": null,
            "min_width": null,
            "border": null,
            "align_items": null,
            "bottom": null,
            "_model_module": "@jupyter-widgets/base",
            "top": null,
            "grid_column": null,
            "overflow_y": null,
            "overflow_x": null,
            "grid_auto_flow": null,
            "grid_area": null,
            "grid_template_columns": null,
            "flex": null,
            "_model_name": "LayoutModel",
            "justify_items": null,
            "grid_row": null,
            "max_height": null,
            "align_content": null,
            "visibility": null,
            "align_self": null,
            "height": null,
            "min_height": null,
            "padding": null,
            "grid_auto_rows": null,
            "grid_gap": null,
            "max_width": null,
            "order": null,
            "_view_module_version": "1.2.0",
            "grid_template_areas": null,
            "object_position": null,
            "object_fit": null,
            "grid_auto_columns": null,
            "margin": null,
            "display": null,
            "left": null
          }
        },
        "7f9ae0b227b2494b8333184f627707b7": {
          "model_module": "@jupyter-widgets/controls",
          "model_name": "FloatProgressModel",
          "state": {
            "_view_name": "ProgressView",
            "style": "IPY_MODEL_2eeedcf4cb0049589f6189c1228803ab",
            "_dom_classes": [],
            "description": "  0%",
            "_model_name": "FloatProgressModel",
            "bar_style": "info",
            "max": 1,
            "_view_module": "@jupyter-widgets/controls",
            "_model_module_version": "1.5.0",
            "value": 0,
            "_view_count": null,
            "_view_module_version": "1.5.0",
            "orientation": "horizontal",
            "min": 0,
            "description_tooltip": null,
            "_model_module": "@jupyter-widgets/controls",
            "layout": "IPY_MODEL_56645790d6d34011a422c6790cbb9d94"
          }
        },
        "ca279c2b84164375baaba7c31d4288d5": {
          "model_module": "@jupyter-widgets/controls",
          "model_name": "HTMLModel",
          "state": {
            "_view_name": "HTMLView",
            "style": "IPY_MODEL_4a621a9b13904dfd8ca750724884f0bf",
            "_dom_classes": [],
            "description": "",
            "_model_name": "HTMLModel",
            "placeholder": "​",
            "_view_module": "@jupyter-widgets/controls",
            "_model_module_version": "1.5.0",
            "value": " 0/29515 [00:00&lt;?, ?it/s]",
            "_view_count": null,
            "_view_module_version": "1.5.0",
            "description_tooltip": null,
            "_model_module": "@jupyter-widgets/controls",
            "layout": "IPY_MODEL_0c99301abe54406fb54618233aa03384"
          }
        },
        "2eeedcf4cb0049589f6189c1228803ab": {
          "model_module": "@jupyter-widgets/controls",
          "model_name": "ProgressStyleModel",
          "state": {
            "_view_name": "StyleView",
            "_model_name": "ProgressStyleModel",
            "description_width": "initial",
            "_view_module": "@jupyter-widgets/base",
            "_model_module_version": "1.5.0",
            "_view_count": null,
            "_view_module_version": "1.2.0",
            "bar_color": null,
            "_model_module": "@jupyter-widgets/controls"
          }
        },
        "56645790d6d34011a422c6790cbb9d94": {
          "model_module": "@jupyter-widgets/base",
          "model_name": "LayoutModel",
          "state": {
            "_view_name": "LayoutView",
            "grid_template_rows": null,
            "right": null,
            "justify_content": null,
            "_view_module": "@jupyter-widgets/base",
            "overflow": null,
            "_model_module_version": "1.2.0",
            "_view_count": null,
            "flex_flow": null,
            "width": null,
            "min_width": null,
            "border": null,
            "align_items": null,
            "bottom": null,
            "_model_module": "@jupyter-widgets/base",
            "top": null,
            "grid_column": null,
            "overflow_y": null,
            "overflow_x": null,
            "grid_auto_flow": null,
            "grid_area": null,
            "grid_template_columns": null,
            "flex": null,
            "_model_name": "LayoutModel",
            "justify_items": null,
            "grid_row": null,
            "max_height": null,
            "align_content": null,
            "visibility": null,
            "align_self": null,
            "height": null,
            "min_height": null,
            "padding": null,
            "grid_auto_rows": null,
            "grid_gap": null,
            "max_width": null,
            "order": null,
            "_view_module_version": "1.2.0",
            "grid_template_areas": null,
            "object_position": null,
            "object_fit": null,
            "grid_auto_columns": null,
            "margin": null,
            "display": null,
            "left": null
          }
        },
        "4a621a9b13904dfd8ca750724884f0bf": {
          "model_module": "@jupyter-widgets/controls",
          "model_name": "DescriptionStyleModel",
          "state": {
            "_view_name": "StyleView",
            "_model_name": "DescriptionStyleModel",
            "description_width": "",
            "_view_module": "@jupyter-widgets/base",
            "_model_module_version": "1.5.0",
            "_view_count": null,
            "_view_module_version": "1.2.0",
            "_model_module": "@jupyter-widgets/controls"
          }
        },
        "0c99301abe54406fb54618233aa03384": {
          "model_module": "@jupyter-widgets/base",
          "model_name": "LayoutModel",
          "state": {
            "_view_name": "LayoutView",
            "grid_template_rows": null,
            "right": null,
            "justify_content": null,
            "_view_module": "@jupyter-widgets/base",
            "overflow": null,
            "_model_module_version": "1.2.0",
            "_view_count": null,
            "flex_flow": null,
            "width": null,
            "min_width": null,
            "border": null,
            "align_items": null,
            "bottom": null,
            "_model_module": "@jupyter-widgets/base",
            "top": null,
            "grid_column": null,
            "overflow_y": null,
            "overflow_x": null,
            "grid_auto_flow": null,
            "grid_area": null,
            "grid_template_columns": null,
            "flex": null,
            "_model_name": "LayoutModel",
            "justify_items": null,
            "grid_row": null,
            "max_height": null,
            "align_content": null,
            "visibility": null,
            "align_self": null,
            "height": null,
            "min_height": null,
            "padding": null,
            "grid_auto_rows": null,
            "grid_gap": null,
            "max_width": null,
            "order": null,
            "_view_module_version": "1.2.0",
            "grid_template_areas": null,
            "object_position": null,
            "object_fit": null,
            "grid_auto_columns": null,
            "margin": null,
            "display": null,
            "left": null
          }
        },
        "3358ca33e26e4ade967545c6e341256d": {
          "model_module": "@jupyter-widgets/controls",
          "model_name": "HBoxModel",
          "state": {
            "_view_name": "HBoxView",
            "_dom_classes": [],
            "_model_name": "HBoxModel",
            "_view_module": "@jupyter-widgets/controls",
            "_model_module_version": "1.5.0",
            "_view_count": null,
            "_view_module_version": "1.5.0",
            "box_style": "",
            "layout": "IPY_MODEL_e345dd7202fb4c589674463e3d82e6f1",
            "_model_module": "@jupyter-widgets/controls",
            "children": [
              "IPY_MODEL_8e89a86c68b04306ba91195a6b51ff6c",
              "IPY_MODEL_8797c03105034b1aaa2502df4db946ec"
            ]
          }
        },
        "e345dd7202fb4c589674463e3d82e6f1": {
          "model_module": "@jupyter-widgets/base",
          "model_name": "LayoutModel",
          "state": {
            "_view_name": "LayoutView",
            "grid_template_rows": null,
            "right": null,
            "justify_content": null,
            "_view_module": "@jupyter-widgets/base",
            "overflow": null,
            "_model_module_version": "1.2.0",
            "_view_count": null,
            "flex_flow": null,
            "width": null,
            "min_width": null,
            "border": null,
            "align_items": null,
            "bottom": null,
            "_model_module": "@jupyter-widgets/base",
            "top": null,
            "grid_column": null,
            "overflow_y": null,
            "overflow_x": null,
            "grid_auto_flow": null,
            "grid_area": null,
            "grid_template_columns": null,
            "flex": null,
            "_model_name": "LayoutModel",
            "justify_items": null,
            "grid_row": null,
            "max_height": null,
            "align_content": null,
            "visibility": null,
            "align_self": null,
            "height": null,
            "min_height": null,
            "padding": null,
            "grid_auto_rows": null,
            "grid_gap": null,
            "max_width": null,
            "order": null,
            "_view_module_version": "1.2.0",
            "grid_template_areas": null,
            "object_position": null,
            "object_fit": null,
            "grid_auto_columns": null,
            "margin": null,
            "display": null,
            "left": null
          }
        },
        "8e89a86c68b04306ba91195a6b51ff6c": {
          "model_module": "@jupyter-widgets/controls",
          "model_name": "FloatProgressModel",
          "state": {
            "_view_name": "ProgressView",
            "style": "IPY_MODEL_a834ede2646448b9a9532db7e6a580c8",
            "_dom_classes": [],
            "description": "",
            "_model_name": "FloatProgressModel",
            "bar_style": "success",
            "max": 1,
            "_view_module": "@jupyter-widgets/controls",
            "_model_module_version": "1.5.0",
            "value": 1,
            "_view_count": null,
            "_view_module_version": "1.5.0",
            "orientation": "horizontal",
            "min": 0,
            "description_tooltip": null,
            "_model_module": "@jupyter-widgets/controls",
            "layout": "IPY_MODEL_a9aa72ba89fa4faa9133c2d9990c818d"
          }
        },
        "8797c03105034b1aaa2502df4db946ec": {
          "model_module": "@jupyter-widgets/controls",
          "model_name": "HTMLModel",
          "state": {
            "_view_name": "HTMLView",
            "style": "IPY_MODEL_6ff6107f07c6450782f541b36831ee80",
            "_dom_classes": [],
            "description": "",
            "_model_name": "HTMLModel",
            "placeholder": "​",
            "_view_module": "@jupyter-widgets/controls",
            "_model_module_version": "1.5.0",
            "value": " 4423680/? [00:01&lt;00:00, 2508402.06it/s]",
            "_view_count": null,
            "_view_module_version": "1.5.0",
            "description_tooltip": null,
            "_model_module": "@jupyter-widgets/controls",
            "layout": "IPY_MODEL_f26950df54024d9ba666264ffddddb3e"
          }
        },
        "a834ede2646448b9a9532db7e6a580c8": {
          "model_module": "@jupyter-widgets/controls",
          "model_name": "ProgressStyleModel",
          "state": {
            "_view_name": "StyleView",
            "_model_name": "ProgressStyleModel",
            "description_width": "initial",
            "_view_module": "@jupyter-widgets/base",
            "_model_module_version": "1.5.0",
            "_view_count": null,
            "_view_module_version": "1.2.0",
            "bar_color": null,
            "_model_module": "@jupyter-widgets/controls"
          }
        },
        "a9aa72ba89fa4faa9133c2d9990c818d": {
          "model_module": "@jupyter-widgets/base",
          "model_name": "LayoutModel",
          "state": {
            "_view_name": "LayoutView",
            "grid_template_rows": null,
            "right": null,
            "justify_content": null,
            "_view_module": "@jupyter-widgets/base",
            "overflow": null,
            "_model_module_version": "1.2.0",
            "_view_count": null,
            "flex_flow": null,
            "width": null,
            "min_width": null,
            "border": null,
            "align_items": null,
            "bottom": null,
            "_model_module": "@jupyter-widgets/base",
            "top": null,
            "grid_column": null,
            "overflow_y": null,
            "overflow_x": null,
            "grid_auto_flow": null,
            "grid_area": null,
            "grid_template_columns": null,
            "flex": null,
            "_model_name": "LayoutModel",
            "justify_items": null,
            "grid_row": null,
            "max_height": null,
            "align_content": null,
            "visibility": null,
            "align_self": null,
            "height": null,
            "min_height": null,
            "padding": null,
            "grid_auto_rows": null,
            "grid_gap": null,
            "max_width": null,
            "order": null,
            "_view_module_version": "1.2.0",
            "grid_template_areas": null,
            "object_position": null,
            "object_fit": null,
            "grid_auto_columns": null,
            "margin": null,
            "display": null,
            "left": null
          }
        },
        "6ff6107f07c6450782f541b36831ee80": {
          "model_module": "@jupyter-widgets/controls",
          "model_name": "DescriptionStyleModel",
          "state": {
            "_view_name": "StyleView",
            "_model_name": "DescriptionStyleModel",
            "description_width": "",
            "_view_module": "@jupyter-widgets/base",
            "_model_module_version": "1.5.0",
            "_view_count": null,
            "_view_module_version": "1.2.0",
            "_model_module": "@jupyter-widgets/controls"
          }
        },
        "f26950df54024d9ba666264ffddddb3e": {
          "model_module": "@jupyter-widgets/base",
          "model_name": "LayoutModel",
          "state": {
            "_view_name": "LayoutView",
            "grid_template_rows": null,
            "right": null,
            "justify_content": null,
            "_view_module": "@jupyter-widgets/base",
            "overflow": null,
            "_model_module_version": "1.2.0",
            "_view_count": null,
            "flex_flow": null,
            "width": null,
            "min_width": null,
            "border": null,
            "align_items": null,
            "bottom": null,
            "_model_module": "@jupyter-widgets/base",
            "top": null,
            "grid_column": null,
            "overflow_y": null,
            "overflow_x": null,
            "grid_auto_flow": null,
            "grid_area": null,
            "grid_template_columns": null,
            "flex": null,
            "_model_name": "LayoutModel",
            "justify_items": null,
            "grid_row": null,
            "max_height": null,
            "align_content": null,
            "visibility": null,
            "align_self": null,
            "height": null,
            "min_height": null,
            "padding": null,
            "grid_auto_rows": null,
            "grid_gap": null,
            "max_width": null,
            "order": null,
            "_view_module_version": "1.2.0",
            "grid_template_areas": null,
            "object_position": null,
            "object_fit": null,
            "grid_auto_columns": null,
            "margin": null,
            "display": null,
            "left": null
          }
        },
        "987d567c7ca54efca39fb04ace74420d": {
          "model_module": "@jupyter-widgets/controls",
          "model_name": "HBoxModel",
          "state": {
            "_view_name": "HBoxView",
            "_dom_classes": [],
            "_model_name": "HBoxModel",
            "_view_module": "@jupyter-widgets/controls",
            "_model_module_version": "1.5.0",
            "_view_count": null,
            "_view_module_version": "1.5.0",
            "box_style": "",
            "layout": "IPY_MODEL_6522e3a446744da4bb4c3dfaaa67b55a",
            "_model_module": "@jupyter-widgets/controls",
            "children": [
              "IPY_MODEL_cef7d59dbfd3411c826dc81e1c05f302",
              "IPY_MODEL_4c0264dfa1324b219b94d3864f4f3e2f"
            ]
          }
        },
        "6522e3a446744da4bb4c3dfaaa67b55a": {
          "model_module": "@jupyter-widgets/base",
          "model_name": "LayoutModel",
          "state": {
            "_view_name": "LayoutView",
            "grid_template_rows": null,
            "right": null,
            "justify_content": null,
            "_view_module": "@jupyter-widgets/base",
            "overflow": null,
            "_model_module_version": "1.2.0",
            "_view_count": null,
            "flex_flow": null,
            "width": null,
            "min_width": null,
            "border": null,
            "align_items": null,
            "bottom": null,
            "_model_module": "@jupyter-widgets/base",
            "top": null,
            "grid_column": null,
            "overflow_y": null,
            "overflow_x": null,
            "grid_auto_flow": null,
            "grid_area": null,
            "grid_template_columns": null,
            "flex": null,
            "_model_name": "LayoutModel",
            "justify_items": null,
            "grid_row": null,
            "max_height": null,
            "align_content": null,
            "visibility": null,
            "align_self": null,
            "height": null,
            "min_height": null,
            "padding": null,
            "grid_auto_rows": null,
            "grid_gap": null,
            "max_width": null,
            "order": null,
            "_view_module_version": "1.2.0",
            "grid_template_areas": null,
            "object_position": null,
            "object_fit": null,
            "grid_auto_columns": null,
            "margin": null,
            "display": null,
            "left": null
          }
        },
        "cef7d59dbfd3411c826dc81e1c05f302": {
          "model_module": "@jupyter-widgets/controls",
          "model_name": "FloatProgressModel",
          "state": {
            "_view_name": "ProgressView",
            "style": "IPY_MODEL_91b2bd40d12e4d28ac45cd3c990ca3d5",
            "_dom_classes": [],
            "description": "",
            "_model_name": "FloatProgressModel",
            "bar_style": "success",
            "max": 1,
            "_view_module": "@jupyter-widgets/controls",
            "_model_module_version": "1.5.0",
            "value": 1,
            "_view_count": null,
            "_view_module_version": "1.5.0",
            "orientation": "horizontal",
            "min": 0,
            "description_tooltip": null,
            "_model_module": "@jupyter-widgets/controls",
            "layout": "IPY_MODEL_8c265b11aaa7441fbd550a69bde6520b"
          }
        },
        "4c0264dfa1324b219b94d3864f4f3e2f": {
          "model_module": "@jupyter-widgets/controls",
          "model_name": "HTMLModel",
          "state": {
            "_view_name": "HTMLView",
            "style": "IPY_MODEL_82bb86d7aae94da3a625c9d1ddae92da",
            "_dom_classes": [],
            "description": "",
            "_model_name": "HTMLModel",
            "placeholder": "​",
            "_view_module": "@jupyter-widgets/controls",
            "_model_module_version": "1.5.0",
            "value": " 8192/? [00:00&lt;00:00, 13175.64it/s]",
            "_view_count": null,
            "_view_module_version": "1.5.0",
            "description_tooltip": null,
            "_model_module": "@jupyter-widgets/controls",
            "layout": "IPY_MODEL_57294498335b469c9a0a087a5fe48bc9"
          }
        },
        "91b2bd40d12e4d28ac45cd3c990ca3d5": {
          "model_module": "@jupyter-widgets/controls",
          "model_name": "ProgressStyleModel",
          "state": {
            "_view_name": "StyleView",
            "_model_name": "ProgressStyleModel",
            "description_width": "initial",
            "_view_module": "@jupyter-widgets/base",
            "_model_module_version": "1.5.0",
            "_view_count": null,
            "_view_module_version": "1.2.0",
            "bar_color": null,
            "_model_module": "@jupyter-widgets/controls"
          }
        },
        "8c265b11aaa7441fbd550a69bde6520b": {
          "model_module": "@jupyter-widgets/base",
          "model_name": "LayoutModel",
          "state": {
            "_view_name": "LayoutView",
            "grid_template_rows": null,
            "right": null,
            "justify_content": null,
            "_view_module": "@jupyter-widgets/base",
            "overflow": null,
            "_model_module_version": "1.2.0",
            "_view_count": null,
            "flex_flow": null,
            "width": null,
            "min_width": null,
            "border": null,
            "align_items": null,
            "bottom": null,
            "_model_module": "@jupyter-widgets/base",
            "top": null,
            "grid_column": null,
            "overflow_y": null,
            "overflow_x": null,
            "grid_auto_flow": null,
            "grid_area": null,
            "grid_template_columns": null,
            "flex": null,
            "_model_name": "LayoutModel",
            "justify_items": null,
            "grid_row": null,
            "max_height": null,
            "align_content": null,
            "visibility": null,
            "align_self": null,
            "height": null,
            "min_height": null,
            "padding": null,
            "grid_auto_rows": null,
            "grid_gap": null,
            "max_width": null,
            "order": null,
            "_view_module_version": "1.2.0",
            "grid_template_areas": null,
            "object_position": null,
            "object_fit": null,
            "grid_auto_columns": null,
            "margin": null,
            "display": null,
            "left": null
          }
        },
        "82bb86d7aae94da3a625c9d1ddae92da": {
          "model_module": "@jupyter-widgets/controls",
          "model_name": "DescriptionStyleModel",
          "state": {
            "_view_name": "StyleView",
            "_model_name": "DescriptionStyleModel",
            "description_width": "",
            "_view_module": "@jupyter-widgets/base",
            "_model_module_version": "1.5.0",
            "_view_count": null,
            "_view_module_version": "1.2.0",
            "_model_module": "@jupyter-widgets/controls"
          }
        },
        "57294498335b469c9a0a087a5fe48bc9": {
          "model_module": "@jupyter-widgets/base",
          "model_name": "LayoutModel",
          "state": {
            "_view_name": "LayoutView",
            "grid_template_rows": null,
            "right": null,
            "justify_content": null,
            "_view_module": "@jupyter-widgets/base",
            "overflow": null,
            "_model_module_version": "1.2.0",
            "_view_count": null,
            "flex_flow": null,
            "width": null,
            "min_width": null,
            "border": null,
            "align_items": null,
            "bottom": null,
            "_model_module": "@jupyter-widgets/base",
            "top": null,
            "grid_column": null,
            "overflow_y": null,
            "overflow_x": null,
            "grid_auto_flow": null,
            "grid_area": null,
            "grid_template_columns": null,
            "flex": null,
            "_model_name": "LayoutModel",
            "justify_items": null,
            "grid_row": null,
            "max_height": null,
            "align_content": null,
            "visibility": null,
            "align_self": null,
            "height": null,
            "min_height": null,
            "padding": null,
            "grid_auto_rows": null,
            "grid_gap": null,
            "max_width": null,
            "order": null,
            "_view_module_version": "1.2.0",
            "grid_template_areas": null,
            "object_position": null,
            "object_fit": null,
            "grid_auto_columns": null,
            "margin": null,
            "display": null,
            "left": null
          }
        }
      }
    }
  },
  "cells": [
    {
      "cell_type": "markdown",
      "metadata": {
        "id": "view-in-github",
        "colab_type": "text"
      },
      "source": [
        "<a href=\"https://colab.research.google.com/github/sakibreza/My-PyTorch-Playground/blob/master/Validation.ipynb\" target=\"_parent\"><img src=\"https://colab.research.google.com/assets/colab-badge.svg\" alt=\"Open In Colab\"/></a>"
      ]
    },
    {
      "cell_type": "markdown",
      "metadata": {
        "colab_type": "text",
        "id": "gXmCHcwKs6rd"
      },
      "source": [
        "# Validation"
      ]
    },
    {
      "cell_type": "code",
      "metadata": {
        "colab_type": "code",
        "id": "PzCCniVwNTdp",
        "colab": {}
      },
      "source": [
        "# Setting seeds to try and ensure we have the same results - this is not guaranteed across PyTorch releases.\n",
        "import torch\n",
        "torch.manual_seed(0)\n",
        "torch.backends.cudnn.deterministic = True\n",
        "torch.backends.cudnn.benchmark = False\n",
        "\n",
        "import numpy as np\n",
        "np.random.seed(0)"
      ],
      "execution_count": 1,
      "outputs": []
    },
    {
      "cell_type": "code",
      "metadata": {
        "colab_type": "code",
        "id": "PCJzXv0OK1Bs",
        "colab": {
          "base_uri": "https://localhost:8080/",
          "height": 383,
          "referenced_widgets": [
            "bafed255ac144edf80de2d227a8f837e",
            "513add183ea04a84bdf618984908aee2",
            "76c51cf66c65415abd66c6580160027f",
            "a75a362739a14b659f45e39d47fb56d1",
            "22064c8b56194d0592bb0ec6086e25e3",
            "52b108b71ee9493f8b521e0c0e17c627",
            "357c4fa86a9146d3b9a1725d76f6b464",
            "c1a79597daf24a1e941187146c78879e",
            "e003e010b08444ceae297439c92bc9fa",
            "04f9715429b3418fb364f31837f5a804",
            "7f9ae0b227b2494b8333184f627707b7",
            "ca279c2b84164375baaba7c31d4288d5",
            "2eeedcf4cb0049589f6189c1228803ab",
            "56645790d6d34011a422c6790cbb9d94",
            "4a621a9b13904dfd8ca750724884f0bf",
            "0c99301abe54406fb54618233aa03384",
            "3358ca33e26e4ade967545c6e341256d",
            "e345dd7202fb4c589674463e3d82e6f1",
            "8e89a86c68b04306ba91195a6b51ff6c",
            "8797c03105034b1aaa2502df4db946ec",
            "a834ede2646448b9a9532db7e6a580c8",
            "a9aa72ba89fa4faa9133c2d9990c818d",
            "6ff6107f07c6450782f541b36831ee80",
            "f26950df54024d9ba666264ffddddb3e",
            "987d567c7ca54efca39fb04ace74420d",
            "6522e3a446744da4bb4c3dfaaa67b55a",
            "cef7d59dbfd3411c826dc81e1c05f302",
            "4c0264dfa1324b219b94d3864f4f3e2f",
            "91b2bd40d12e4d28ac45cd3c990ca3d5",
            "8c265b11aaa7441fbd550a69bde6520b",
            "82bb86d7aae94da3a625c9d1ddae92da",
            "57294498335b469c9a0a087a5fe48bc9"
          ]
        },
        "outputId": "b959fc41-d0e6-4ec3-dc21-15f2bf3dd8ca"
      },
      "source": [
        "from torchvision import datasets, transforms\n",
        "import torch.nn.functional as F\n",
        "from torch import nn\n",
        "\n",
        "mean, std = (0.5,), (0.5,)\n",
        "\n",
        "# Create a transform and normalise data\n",
        "transform = transforms.Compose([transforms.ToTensor(),\n",
        "                                transforms.Normalize(mean, std)\n",
        "                              ])\n",
        "\n",
        "# Download FMNIST training dataset and load training data\n",
        "trainset = datasets.FashionMNIST('~/.pytorch/FMNIST/', download=True, train=True, transform=transform)\n",
        "trainloader = torch.utils.data.DataLoader(trainset, batch_size=64, shuffle=True)\n",
        "\n",
        "# Download FMNIST test dataset and load test data\n",
        "testset = datasets.FashionMNIST('~/.pytorch/FMNIST/', download=True, train=False, transform=transform)\n",
        "testloader = torch.utils.data.DataLoader(testset, batch_size=64, shuffle=False)"
      ],
      "execution_count": 2,
      "outputs": [
        {
          "output_type": "stream",
          "text": [
            "Downloading http://fashion-mnist.s3-website.eu-central-1.amazonaws.com/train-images-idx3-ubyte.gz to /root/.pytorch/FMNIST/FashionMNIST/raw/train-images-idx3-ubyte.gz\n"
          ],
          "name": "stdout"
        },
        {
          "output_type": "display_data",
          "data": {
            "application/vnd.jupyter.widget-view+json": {
              "model_id": "bafed255ac144edf80de2d227a8f837e",
              "version_minor": 0,
              "version_major": 2
            },
            "text/plain": [
              "HBox(children=(FloatProgress(value=1.0, bar_style='info', max=1.0), HTML(value='')))"
            ]
          },
          "metadata": {
            "tags": []
          }
        },
        {
          "output_type": "stream",
          "text": [
            "Extracting /root/.pytorch/FMNIST/FashionMNIST/raw/train-images-idx3-ubyte.gz to /root/.pytorch/FMNIST/FashionMNIST/raw\n",
            "Downloading http://fashion-mnist.s3-website.eu-central-1.amazonaws.com/train-labels-idx1-ubyte.gz to /root/.pytorch/FMNIST/FashionMNIST/raw/train-labels-idx1-ubyte.gz\n"
          ],
          "name": "stdout"
        },
        {
          "output_type": "display_data",
          "data": {
            "application/vnd.jupyter.widget-view+json": {
              "model_id": "e003e010b08444ceae297439c92bc9fa",
              "version_minor": 0,
              "version_major": 2
            },
            "text/plain": [
              "HBox(children=(FloatProgress(value=1.0, bar_style='info', max=1.0), HTML(value='')))"
            ]
          },
          "metadata": {
            "tags": []
          }
        },
        {
          "output_type": "stream",
          "text": [
            "Extracting /root/.pytorch/FMNIST/FashionMNIST/raw/train-labels-idx1-ubyte.gz to /root/.pytorch/FMNIST/FashionMNIST/raw\n",
            "Downloading http://fashion-mnist.s3-website.eu-central-1.amazonaws.com/t10k-images-idx3-ubyte.gz to /root/.pytorch/FMNIST/FashionMNIST/raw/t10k-images-idx3-ubyte.gz\n"
          ],
          "name": "stdout"
        },
        {
          "output_type": "display_data",
          "data": {
            "application/vnd.jupyter.widget-view+json": {
              "model_id": "3358ca33e26e4ade967545c6e341256d",
              "version_minor": 0,
              "version_major": 2
            },
            "text/plain": [
              "HBox(children=(FloatProgress(value=1.0, bar_style='info', max=1.0), HTML(value='')))"
            ]
          },
          "metadata": {
            "tags": []
          }
        },
        {
          "output_type": "stream",
          "text": [
            "Extracting /root/.pytorch/FMNIST/FashionMNIST/raw/t10k-images-idx3-ubyte.gz to /root/.pytorch/FMNIST/FashionMNIST/raw\n",
            "Downloading http://fashion-mnist.s3-website.eu-central-1.amazonaws.com/t10k-labels-idx1-ubyte.gz to /root/.pytorch/FMNIST/FashionMNIST/raw/t10k-labels-idx1-ubyte.gz\n"
          ],
          "name": "stdout"
        },
        {
          "output_type": "display_data",
          "data": {
            "application/vnd.jupyter.widget-view+json": {
              "model_id": "987d567c7ca54efca39fb04ace74420d",
              "version_minor": 0,
              "version_major": 2
            },
            "text/plain": [
              "HBox(children=(FloatProgress(value=1.0, bar_style='info', max=1.0), HTML(value='')))"
            ]
          },
          "metadata": {
            "tags": []
          }
        },
        {
          "output_type": "stream",
          "text": [
            "Extracting /root/.pytorch/FMNIST/FashionMNIST/raw/t10k-labels-idx1-ubyte.gz to /root/.pytorch/FMNIST/FashionMNIST/raw\n",
            "Processing...\n",
            "Done!\n"
          ],
          "name": "stdout"
        },
        {
          "output_type": "stream",
          "text": [
            "/usr/local/lib/python3.6/dist-packages/torchvision/datasets/mnist.py:469: UserWarning: The given NumPy array is not writeable, and PyTorch does not support non-writeable tensors. This means you can write to the underlying (supposedly non-writeable) NumPy array using the tensor. You may want to copy the array to protect its data or make it writeable before converting it to a tensor. This type of warning will be suppressed for the rest of this program. (Triggered internally at  /pytorch/torch/csrc/utils/tensor_numpy.cpp:141.)\n",
            "  return torch.from_numpy(parsed.astype(m[2], copy=False)).view(*s)\n"
          ],
          "name": "stderr"
        }
      ]
    },
    {
      "cell_type": "code",
      "metadata": {
        "colab_type": "code",
        "id": "rqMqFbIVrbFH",
        "colab": {}
      },
      "source": [
        "class FMNIST(nn.Module):\n",
        "  def __init__(self):\n",
        "    super().__init__()\n",
        "    self.fc1 = nn.Linear(784, 128)\n",
        "    self.fc2 = nn.Linear(128,64)\n",
        "    self.fc3 = nn.Linear(64,10)\n",
        "    \n",
        "  def forward(self, x):\n",
        "    x = x.view(x.shape[0], -1)\n",
        "    \n",
        "    x = F.relu(self.fc1(x))\n",
        "    x = F.relu(self.fc2(x))\n",
        "    x = self.fc3(x)\n",
        "    x = F.log_softmax(x, dim=1)\n",
        "    \n",
        "    return x\n",
        "\n",
        "model = FMNIST()"
      ],
      "execution_count": 3,
      "outputs": []
    },
    {
      "cell_type": "code",
      "metadata": {
        "colab_type": "code",
        "id": "oNNyI5YRZ7H1",
        "colab": {
          "base_uri": "https://localhost:8080/",
          "height": 108
        },
        "outputId": "b74351bb-76f4-4513-bb33-072d09c841e6"
      },
      "source": [
        "from torch import optim\n",
        "\n",
        "criterion = nn.NLLLoss()\n",
        "optimizer = optim.SGD(model.parameters(), lr=0.01)\n",
        "\n",
        "num_epochs = 3\n",
        "\n",
        "for i in range(num_epochs):\n",
        "    cum_loss = 0\n",
        "\n",
        "    for images, labels in trainloader:\n",
        "        optimizer.zero_grad()\n",
        "        output = model(images)\n",
        "        loss = criterion(output, labels)\n",
        "        loss.backward()\n",
        "        optimizer.step()\n",
        "        \n",
        "        cum_loss += loss.item()\n",
        "     \n",
        "    print(f\"Training loss: {cum_loss/len(trainloader)}\")"
      ],
      "execution_count": 4,
      "outputs": [
        {
          "output_type": "stream",
          "text": [
            "\n",
            "\n",
            "Training loss: 1.033089838969682\n",
            "Training loss: 0.5605184560391441\n",
            "Training loss: 0.4899654548877338\n"
          ],
          "name": "stdout"
        }
      ]
    },
    {
      "cell_type": "code",
      "metadata": {
        "colab_type": "code",
        "id": "UWYw7ZOzsS8U",
        "colab": {}
      },
      "source": [
        "import matplotlib.pyplot as plt\n",
        "%matplotlib inline\n",
        "\n",
        "images, labels = next(iter(testloader))\n",
        "\n",
        "test_image_id = 0 \n",
        "img = images[test_image_id].view(1, 784) \n",
        "\n",
        "with torch.no_grad():\n",
        "    logps = model(img)"
      ],
      "execution_count": 5,
      "outputs": []
    },
    {
      "cell_type": "code",
      "metadata": {
        "id": "2tRjoEDSqY8X",
        "colab_type": "code",
        "colab": {
          "base_uri": "https://localhost:8080/",
          "height": 54
        },
        "outputId": "b4f4415a-8ac8-4bba-fd69-37c7f23f235c"
      },
      "source": [
        "ps = torch.exp(logps)\n",
        "ps"
      ],
      "execution_count": 6,
      "outputs": [
        {
          "output_type": "execute_result",
          "data": {
            "text/plain": [
              "tensor([[2.3430e-06, 2.8815e-07, 5.6288e-06, 1.1077e-06, 4.0384e-06, 1.0569e-01,\n",
              "         6.3070e-06, 3.2140e-01, 6.3758e-03, 5.6652e-01]])"
            ]
          },
          "metadata": {
            "tags": []
          },
          "execution_count": 6
        }
      ]
    },
    {
      "cell_type": "code",
      "metadata": {
        "id": "dpP_RLV-qkc6",
        "colab_type": "code",
        "colab": {
          "base_uri": "https://localhost:8080/",
          "height": 72
        },
        "outputId": "bbe54b66-4d0b-43db-f15a-c491669f166f"
      },
      "source": [
        "nps = ps.numpy()[0]\n",
        "nps"
      ],
      "execution_count": 7,
      "outputs": [
        {
          "output_type": "execute_result",
          "data": {
            "text/plain": [
              "array([2.3430480e-06, 2.8814526e-07, 5.6288118e-06, 1.1076867e-06,\n",
              "       4.0383902e-06, 1.0568936e-01, 6.3070252e-06, 3.2139966e-01,\n",
              "       6.3757654e-03, 5.6651556e-01], dtype=float32)"
            ]
          },
          "metadata": {
            "tags": []
          },
          "execution_count": 7
        }
      ]
    },
    {
      "cell_type": "code",
      "metadata": {
        "id": "kBf23XrtqrB6",
        "colab_type": "code",
        "colab": {
          "base_uri": "https://localhost:8080/",
          "height": 333
        },
        "outputId": "6246945c-cf21-4a8e-8f73-3bcf0e1ec167"
      },
      "source": [
        "FMNIST_labels = ['T-shirt/top','Trouser','Pullover','Dress','Coat','Sandal','Shirt','Sport Shoes','Bag','Ankle Boots']\n",
        "plt.xticks(np.arange(10),labels=FMNIST_labels,rotation='vertical')\n",
        "plt.bar(np.arange(10), nps)"
      ],
      "execution_count": 8,
      "outputs": [
        {
          "output_type": "execute_result",
          "data": {
            "text/plain": [
              "<BarContainer object of 10 artists>"
            ]
          },
          "metadata": {
            "tags": []
          },
          "execution_count": 8
        },
        {
          "output_type": "display_data",
          "data": {
            "image/png": "[encoded data removed]",
            "text/plain": [
              "<Figure size 432x288 with 1 Axes>"
            ]
          },
          "metadata": {
            "tags": [],
            "needs_background": "light"
          }
        }
      ]
    },
    {
      "cell_type": "code",
      "metadata": {
        "id": "Y7gY5hARpOp4",
        "colab_type": "code",
        "colab": {
          "base_uri": "https://localhost:8080/",
          "height": 283
        },
        "outputId": "5587db8b-f744-4557-e5c0-daee8a6f6fc1"
      },
      "source": [
        "def denormalize(tensor):\n",
        "  tensor = tensor*0.5 + 0.5\n",
        "  return tensor\n",
        "  \n",
        "img = img.view(28,-1)\n",
        "img = denormalize(img)\n",
        "plt.imshow(img,cmap='gray')"
      ],
      "execution_count": 9,
      "outputs": [
        {
          "output_type": "execute_result",
          "data": {
            "text/plain": [
              "<matplotlib.image.AxesImage at 0x7f98883ac198>"
            ]
          },
          "metadata": {
            "tags": []
          },
          "execution_count": 9
        },
        {
          "output_type": "display_data",
          "data": {
            "image/png": "[encoded data removed]",
            "text/plain": [
              "<Figure size 432x288 with 1 Axes>"
            ]
          },
          "metadata": {
            "tags": [],
            "needs_background": "light"
          }
        }
      ]
    },
    {
      "cell_type": "code",
      "metadata": {
        "id": "AxTiil7cXOAz",
        "colab_type": "code",
        "colab": {
          "base_uri": "https://localhost:8080/",
          "height": 1000
        },
        "outputId": "b794c8b3-2b14-4b3b-d830-e7d3f65853d5"
      },
      "source": [
        "with torch.no_grad():\n",
        "    num_correct = 0\n",
        "    total = 0\n",
        "\n",
        "    cnt = 0\n",
        "    for images, labels in testloader:\n",
        "        \n",
        "        logps = model(images)\n",
        "        output = torch.exp(logps)\n",
        "        print(output)\n",
        "        cnt+=1\n",
        "        \n",
        "        if cnt > 0:\n",
        "          break"
      ],
      "execution_count": 10,
      "outputs": [
        {
          "output_type": "stream",
          "text": [
            "tensor([[2.3430e-06, 2.8814e-07, 5.6288e-06, 1.1077e-06, 4.0384e-06, 1.0569e-01,\n",
            "         6.3070e-06, 3.2140e-01, 6.3758e-03, 5.6652e-01],\n",
            "        [1.2405e-03, 4.1931e-05, 8.9792e-01, 1.9242e-04, 1.7917e-02, 9.1150e-06,\n",
            "         8.1883e-02, 5.5351e-09, 7.9569e-04, 3.6542e-07],\n",
            "        [3.3303e-05, 9.9975e-01, 3.0523e-05, 1.1709e-04, 7.1877e-05, 2.6031e-08,\n",
            "         2.3260e-07, 6.9498e-07, 8.3005e-09, 1.2535e-08],\n",
            "        [8.5251e-06, 9.9945e-01, 3.6763e-05, 4.5247e-04, 4.7740e-05, 1.9064e-07,\n",
            "         1.7516e-07, 3.0779e-06, 1.6256e-08, 8.6729e-08],\n",
            "        [1.4154e-01, 4.8412e-04, 1.4631e-01, 1.4264e-02, 1.0468e-02, 2.2262e-04,\n",
            "         6.7741e-01, 1.1878e-06, 9.2858e-03, 1.0557e-05],\n",
            "        [4.0952e-03, 9.8334e-01, 9.1337e-04, 2.7837e-03, 8.6983e-03, 6.3261e-07,\n",
            "         1.5853e-04, 5.1091e-06, 2.2740e-06, 3.2677e-07],\n",
            "        [2.6016e-02, 9.8000e-04, 5.6760e-02, 1.4168e-03, 6.8504e-01, 1.2583e-04,\n",
            "         2.2612e-01, 1.1312e-06, 3.5336e-03, 1.4539e-06],\n",
            "        [7.4768e-03, 2.2023e-04, 6.8041e-02, 2.7177e-03, 1.3733e-01, 3.3891e-04,\n",
            "         7.6961e-01, 5.4087e-07, 1.4266e-02, 5.1141e-06],\n",
            "        [1.9934e-02, 2.1106e-03, 1.7175e-02, 2.0788e-02, 4.5948e-03, 7.1165e-01,\n",
            "         1.7828e-02, 1.5708e-01, 4.6743e-02, 2.0917e-03],\n",
            "        [2.0070e-05, 4.8825e-06, 1.0899e-05, 3.2724e-05, 2.8186e-05, 1.7835e-02,\n",
            "         1.3441e-05, 9.7722e-01, 2.3176e-03, 2.5207e-03],\n",
            "        [1.2594e-03, 1.3004e-02, 4.0617e-01, 1.7004e-03, 4.9294e-01, 5.1798e-05,\n",
            "         8.4554e-02, 2.9619e-07, 3.2255e-04, 4.0600e-06],\n",
            "        [1.4071e-04, 2.4459e-05, 6.7857e-04, 6.8037e-05, 2.9184e-04, 7.1323e-01,\n",
            "         4.4524e-04, 1.7573e-01, 2.4863e-02, 8.4533e-02],\n",
            "        [4.2678e-04, 7.7997e-05, 2.0611e-03, 1.7430e-03, 1.1012e-03, 7.8312e-01,\n",
            "         1.1488e-03, 7.5566e-02, 1.3331e-01, 1.4416e-03],\n",
            "        [3.4409e-03, 2.4415e-03, 2.5343e-04, 9.9092e-01, 2.2379e-04, 5.0086e-06,\n",
            "         5.1097e-04, 1.2274e-03, 9.5764e-04, 2.3860e-05],\n",
            "        [6.2967e-04, 9.9729e-05, 2.8358e-02, 1.2025e-03, 8.3936e-01, 6.3701e-06,\n",
            "         1.2075e-01, 1.9541e-07, 9.5889e-03, 1.9243e-06],\n",
            "        [6.7717e-04, 9.7848e-01, 6.6587e-04, 1.9372e-02, 7.5198e-04, 1.1711e-06,\n",
            "         3.3944e-05, 1.8839e-05, 1.3144e-06, 9.0866e-07],\n",
            "        [1.0932e-01, 8.7705e-03, 6.9756e-01, 6.5548e-03, 2.5044e-02, 5.4783e-04,\n",
            "         1.5078e-01, 1.1017e-06, 1.4105e-03, 6.9178e-06],\n",
            "        [2.6501e-02, 1.7509e-04, 2.6454e-01, 2.4092e-03, 1.6183e-01, 5.0125e-05,\n",
            "         5.2940e-01, 2.6219e-07, 1.5099e-02, 4.2495e-06],\n",
            "        [3.6082e-04, 1.7765e-06, 1.4571e-03, 3.2985e-05, 1.0360e-03, 5.5967e-03,\n",
            "         2.4147e-03, 9.8795e-04, 9.8652e-01, 1.5912e-03],\n",
            "        [9.5622e-01, 3.7082e-05, 2.1847e-03, 3.3664e-03, 5.9050e-05, 8.1030e-08,\n",
            "         3.8083e-02, 4.0520e-09, 5.3046e-05, 8.9118e-09],\n",
            "        [4.1125e-01, 1.1228e-02, 2.5035e-01, 2.5381e-02, 3.0270e-02, 1.2869e-03,\n",
            "         2.5329e-01, 6.2414e-05, 1.6448e-02, 4.2871e-04],\n",
            "        [4.8166e-05, 3.5106e-05, 2.4538e-04, 1.4894e-04, 2.4477e-04, 4.0787e-01,\n",
            "         9.3045e-05, 5.6568e-01, 1.9324e-02, 6.3126e-03],\n",
            "        [8.5952e-08, 1.7561e-07, 4.7262e-07, 4.5273e-07, 1.1045e-06, 1.2361e-02,\n",
            "         1.1040e-07, 9.7470e-01, 6.9277e-04, 1.2246e-02],\n",
            "        [6.4427e-06, 1.9192e-06, 1.2107e-05, 5.4380e-06, 6.9854e-06, 2.4803e-01,\n",
            "         5.0443e-06, 6.7764e-01, 2.5844e-03, 7.1705e-02],\n",
            "        [9.9714e-06, 9.9955e-01, 2.2058e-05, 3.6869e-04, 3.9536e-05, 2.3781e-07,\n",
            "         1.1712e-07, 6.6441e-06, 2.0655e-08, 8.0051e-08],\n",
            "        [1.0352e-02, 2.0733e-03, 7.3948e-01, 1.6727e-02, 4.7083e-02, 3.6871e-03,\n",
            "         1.6515e-01, 4.7577e-06, 1.5428e-02, 1.2703e-05],\n",
            "        [1.4282e-03, 6.6137e-05, 8.7999e-02, 5.3141e-04, 2.7965e-01, 1.6563e-05,\n",
            "         6.2610e-01, 3.0287e-08, 4.2010e-03, 2.1041e-06],\n",
            "        [6.2354e-01, 8.7193e-03, 5.1956e-03, 2.9929e-01, 1.0352e-02, 2.1832e-07,\n",
            "         5.2571e-02, 1.8782e-06, 3.2969e-04, 3.3483e-07],\n",
            "        [4.4032e-07, 5.1994e-08, 7.9253e-07, 1.5851e-07, 7.1477e-07, 1.5043e-02,\n",
            "         7.5504e-07, 2.3843e-01, 3.2521e-03, 7.4327e-01],\n",
            "        [1.2939e-01, 8.9518e-04, 6.3857e-03, 2.3093e-01, 2.2537e-01, 1.6669e-06,\n",
            "         3.9441e-01, 6.6239e-06, 1.2606e-02, 2.3373e-06],\n",
            "        [4.2783e-06, 7.4252e-08, 7.2496e-05, 1.2343e-05, 3.4621e-04, 7.3228e-04,\n",
            "         1.6055e-04, 1.7809e-04, 9.9838e-01, 1.1119e-04],\n",
            "        [1.1462e-02, 7.5740e-06, 3.6102e-03, 2.0712e-02, 1.3769e-03, 5.3699e-04,\n",
            "         2.7449e-02, 5.2233e-05, 9.3476e-01, 3.0421e-05],\n",
            "        [2.1907e-02, 4.2817e-03, 4.4584e-03, 9.3155e-01, 4.6354e-03, 4.0786e-04,\n",
            "         1.4716e-02, 2.0921e-03, 1.5837e-02, 1.1584e-04],\n",
            "        [8.3758e-02, 2.9684e-04, 1.2209e-02, 8.2287e-01, 4.4087e-03, 6.7003e-07,\n",
            "         7.2751e-02, 2.4237e-06, 3.6981e-03, 3.9356e-07],\n",
            "        [2.5885e-04, 1.9611e-06, 4.6155e-03, 1.3816e-03, 5.6500e-04, 2.6863e-03,\n",
            "         3.0644e-03, 8.0273e-05, 9.8731e-01, 3.2101e-05],\n",
            "        [7.8519e-01, 2.3498e-04, 1.2009e-02, 2.2355e-02, 8.0373e-04, 2.8321e-05,\n",
            "         1.7774e-01, 1.0870e-06, 1.6430e-03, 1.0184e-06],\n",
            "        [4.2533e-06, 4.3127e-06, 2.8021e-06, 5.9494e-06, 1.4336e-05, 8.5559e-03,\n",
            "         2.6843e-06, 9.8743e-01, 5.0458e-04, 3.4761e-03],\n",
            "        [3.3648e-03, 1.9223e-04, 2.7546e-03, 2.3540e-03, 4.7081e-04, 9.2128e-01,\n",
            "         4.6383e-03, 5.2622e-02, 1.0820e-02, 1.5004e-03],\n",
            "        [2.5384e-06, 4.9649e-06, 7.3087e-06, 4.4514e-06, 2.8580e-05, 1.1609e-02,\n",
            "         2.5146e-06, 9.8343e-01, 1.0199e-03, 3.8888e-03],\n",
            "        [3.3215e-08, 3.4613e-09, 5.9771e-08, 6.0857e-09, 3.3199e-08, 2.1326e-03,\n",
            "         7.4319e-08, 1.9664e-02, 2.8365e-04, 9.7792e-01],\n",
            "        [6.7596e-01, 6.2848e-06, 1.4540e-03, 3.3312e-03, 6.4292e-04, 5.9633e-08,\n",
            "         3.1815e-01, 6.5823e-09, 4.5557e-04, 5.2380e-08],\n",
            "        [1.4820e-05, 9.9967e-01, 1.7110e-05, 2.0566e-04, 8.4544e-05, 4.2325e-08,\n",
            "         2.1900e-07, 8.3991e-06, 1.0530e-08, 1.6124e-07],\n",
            "        [2.7999e-01, 2.8173e-03, 3.7881e-02, 2.3762e-01, 9.7392e-02, 3.1699e-06,\n",
            "         3.3766e-01, 1.1720e-06, 6.6315e-03, 4.8950e-07],\n",
            "        [1.1606e-07, 2.0238e-08, 1.2833e-07, 1.6624e-08, 7.7630e-08, 1.3705e-02,\n",
            "         9.9802e-08, 2.8205e-01, 1.6055e-04, 7.0408e-01],\n",
            "        [4.1233e-03, 4.2269e-05, 1.0148e-01, 2.1749e-03, 1.2890e-01, 3.1449e-06,\n",
            "         7.6074e-01, 6.2645e-09, 2.5344e-03, 1.2785e-07],\n",
            "        [3.9892e-04, 1.9100e-05, 2.9643e-04, 1.2219e-04, 1.2994e-04, 4.4724e-01,\n",
            "         5.8815e-04, 4.2270e-01, 2.9619e-02, 9.8886e-02],\n",
            "        [3.1075e-02, 5.9926e-04, 7.3403e-01, 4.8312e-03, 1.6309e-02, 4.3933e-05,\n",
            "         2.1074e-01, 9.1335e-08, 2.3706e-03, 2.8039e-06],\n",
            "        [1.9297e-03, 9.3633e-01, 7.3574e-04, 5.9024e-02, 1.8136e-03, 6.1970e-07,\n",
            "         7.2156e-05, 9.2576e-05, 3.9524e-06, 2.5236e-06],\n",
            "        [3.1896e-03, 1.7808e-02, 5.7706e-01, 1.4466e-02, 3.2282e-01, 4.2108e-04,\n",
            "         6.1692e-02, 3.4693e-06, 2.5382e-03, 7.1541e-06],\n",
            "        [6.5702e-03, 8.2151e-05, 1.5239e-01, 2.4534e-03, 5.0827e-02, 4.0474e-05,\n",
            "         7.8137e-01, 5.3785e-08, 6.2689e-03, 1.7187e-06],\n",
            "        [1.3571e-02, 3.2732e-04, 2.5775e-01, 1.2696e-03, 3.5658e-01, 6.7953e-05,\n",
            "         3.5847e-01, 3.7652e-07, 1.1948e-02, 6.4498e-06],\n",
            "        [1.0715e-02, 5.8013e-04, 5.8765e-01, 3.5301e-03, 4.0130e-02, 1.9048e-03,\n",
            "         3.4890e-01, 6.9282e-07, 6.5845e-03, 3.5281e-06],\n",
            "        [5.9469e-03, 9.1430e-04, 5.6721e-03, 5.4813e-03, 8.9881e-04, 7.7752e-01,\n",
            "         5.1072e-03, 1.7483e-01, 1.4203e-02, 9.4248e-03],\n",
            "        [3.9941e-02, 9.0820e-05, 1.0333e-01, 2.2402e-03, 1.8041e-02, 2.4948e-03,\n",
            "         5.9984e-01, 9.0241e-06, 2.3326e-01, 7.5447e-04],\n",
            "        [2.2412e-02, 1.9832e-02, 5.5415e-01, 3.7209e-02, 2.8163e-01, 6.4944e-05,\n",
            "         8.1489e-02, 1.6429e-06, 3.2117e-03, 2.0448e-06],\n",
            "        [5.8786e-02, 1.2492e-03, 8.4905e-01, 2.5436e-03, 6.7924e-03, 1.1098e-04,\n",
            "         7.9410e-02, 2.2204e-07, 2.0465e-03, 6.4583e-06],\n",
            "        [2.2402e-04, 2.9206e-07, 6.4239e-04, 2.0555e-05, 1.6212e-03, 2.6449e-04,\n",
            "         1.7543e-03, 6.7484e-05, 9.9536e-01, 4.3023e-05],\n",
            "        [9.2029e-04, 2.4199e-04, 3.8375e-01, 1.7543e-03, 3.7548e-01, 3.9457e-05,\n",
            "         2.3297e-01, 1.1452e-07, 4.8390e-03, 1.5498e-06],\n",
            "        [1.7839e-04, 1.3404e-07, 4.5778e-04, 1.0438e-05, 5.8548e-04, 4.2488e-04,\n",
            "         1.5191e-03, 7.3197e-05, 9.9670e-01, 5.3049e-05],\n",
            "        [8.8333e-01, 4.2636e-03, 1.9171e-02, 1.7807e-02, 1.7700e-03, 9.5583e-05,\n",
            "         7.2986e-02, 7.7152e-06, 5.5835e-04, 5.2729e-06],\n",
            "        [1.8197e-06, 1.0555e-06, 2.0408e-06, 3.1130e-06, 3.8965e-06, 1.4392e-02,\n",
            "         1.1897e-06, 9.8236e-01, 3.7930e-04, 2.8546e-03],\n",
            "        [5.3482e-07, 3.0355e-07, 1.3162e-06, 1.5950e-06, 2.9773e-06, 2.7015e-02,\n",
            "         7.9937e-07, 9.3728e-01, 2.6939e-03, 3.3002e-02],\n",
            "        [1.0182e-06, 6.0758e-07, 1.0247e-04, 9.7668e-06, 5.6093e-04, 6.1390e-03,\n",
            "         3.2441e-05, 6.0798e-03, 9.8429e-01, 2.7862e-03],\n",
            "        [8.9430e-04, 4.6480e-05, 1.3132e-03, 3.6341e-04, 2.1351e-04, 9.5688e-01,\n",
            "         1.8277e-03, 2.1780e-02, 1.1576e-02, 5.1048e-03]])\n"
          ],
          "name": "stdout"
        }
      ]
    },
    {
      "cell_type": "code",
      "metadata": {
        "id": "6Ij_wa7paveM",
        "colab_type": "code",
        "colab": {}
      },
      "source": [
        "with torch.no_grad():\n",
        "    num_correct = 0\n",
        "    total = 0\n",
        "\n",
        "    #set_trace()\n",
        "    for images, labels in testloader:\n",
        "        \n",
        "        logps = model(images)\n",
        "        output = torch.exp(logps)\n",
        "        \n",
        "        pred = torch.argmax(output, 1)\n",
        "        total += labels.size(0)\n"
      ],
      "execution_count": 15,
      "outputs": []
    },
    {
      "cell_type": "code",
      "metadata": {
        "id": "nyxadgAyiRqg",
        "colab_type": "code",
        "colab": {
          "base_uri": "https://localhost:8080/",
          "height": 54
        },
        "outputId": "d99996e5-c877-44c9-f6a0-fdd6ded97de8"
      },
      "source": [
        "pred, labels"
      ],
      "execution_count": 16,
      "outputs": [
        {
          "output_type": "execute_result",
          "data": {
            "text/plain": [
              "(tensor([3, 0, 7, 5, 8, 4, 5, 6, 8, 9, 1, 9, 1, 8, 1, 5]),\n",
              " tensor([3, 2, 7, 5, 8, 4, 5, 6, 8, 9, 1, 9, 1, 8, 1, 5]))"
            ]
          },
          "metadata": {
            "tags": []
          },
          "execution_count": 16
        }
      ]
    },
    {
      "cell_type": "code",
      "metadata": {
        "id": "ojLPwZLdi3OX",
        "colab_type": "code",
        "colab": {
          "base_uri": "https://localhost:8080/",
          "height": 54
        },
        "outputId": "74cc8236-c5a0-4699-91d8-226fd3b5c631"
      },
      "source": [
        "pred == labels"
      ],
      "execution_count": 17,
      "outputs": [
        {
          "output_type": "execute_result",
          "data": {
            "text/plain": [
              "tensor([ True, False,  True,  True,  True,  True,  True,  True,  True,  True,\n",
              "         True,  True,  True,  True,  True,  True])"
            ]
          },
          "metadata": {
            "tags": []
          },
          "execution_count": 17
        }
      ]
    },
    {
      "cell_type": "code",
      "metadata": {
        "colab_type": "code",
        "id": "6V-3r9n-iCMb",
        "colab": {
          "base_uri": "https://localhost:8080/",
          "height": 35
        },
        "outputId": "73e0f92a-e583-40cb-977b-6af29746698f"
      },
      "source": [
        "with torch.no_grad():\n",
        "    num_correct = 0\n",
        "    total = 0\n",
        "\n",
        "    #set_trace()\n",
        "    for images, labels in testloader:\n",
        "        \n",
        "        logps = model(images)\n",
        "        output = torch.exp(logps)\n",
        "        \n",
        "        pred = torch.argmax(output, 1)\n",
        "        total += labels.size(0)\n",
        "        num_correct += (pred == labels).sum().item()\n",
        "\n",
        "    print(f'Accuracy of the model on the 10000 test images: {num_correct * 100 / total}% ')"
      ],
      "execution_count": 18,
      "outputs": [
        {
          "output_type": "stream",
          "text": [
            "Accuracy of the model on the 10000 test images: 82.1% \n"
          ],
          "name": "stdout"
        }
      ]
    },
    {
      "cell_type": "code",
      "metadata": {
        "id": "2VNQH0g6F8xH",
        "colab_type": "code",
        "colab": {}
      },
      "source": [
        ""
      ],
      "execution_count": 14,
      "outputs": []
    }
  ]
}